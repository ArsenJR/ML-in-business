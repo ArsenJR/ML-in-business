{
 "cells": [
  {
   "cell_type": "markdown",
   "metadata": {},
   "source": [
    "# Выбор локации для скважины"
   ]
  },
  {
   "cell_type": "markdown",
   "metadata": {},
   "source": [
    "Допустим, вы работаете в добывающей компании «ГлавРосГосНефть». Нужно решить, где бурить новую скважину.\n",
    "\n",
    "Вам предоставлены пробы нефти в трёх регионах: в каждом 10 000 месторождений, где измерили качество нефти и объём её запасов. Постройте модель машинного обучения, которая поможет определить регион, где добыча принесёт наибольшую прибыль. Проанализируйте возможную прибыль и риски техникой *Bootstrap.*\n",
    "\n",
    "Шаги для выбора локации:\n",
    "\n",
    "- В избранном регионе ищут месторождения, для каждого определяют значения признаков;\n",
    "- Строят модель и оценивают объём запасов;\n",
    "- Выбирают месторождения с самым высокими оценками значений. Количество месторождений зависит от бюджета компании и стоимости разработки одной скважины;\n",
    "- Прибыль равна суммарной прибыли отобранных месторождений."
   ]
  },
  {
   "cell_type": "markdown",
   "metadata": {},
   "source": [
    "## Загрузка и подготовка данных"
   ]
  },
  {
   "cell_type": "markdown",
   "metadata": {},
   "source": [
    "Для начала подключим все необходимые библиотеки:"
   ]
  },
  {
   "cell_type": "code",
   "execution_count": 1,
   "metadata": {},
   "outputs": [],
   "source": [
    "import pandas as pd\n",
    "import numpy as np\n",
    "from sklearn.linear_model import LogisticRegression\n",
    "from sklearn.linear_model import LinearRegression\n",
    "from sklearn.model_selection import train_test_split\n",
    "from sklearn.metrics import mean_squared_error\n",
    "from sklearn.metrics import r2_score\n",
    "from math import ceil\n",
    "from numpy.random import RandomState"
   ]
  },
  {
   "cell_type": "markdown",
   "metadata": {},
   "source": [
    "Загрузим и изучим наши данные"
   ]
  },
  {
   "cell_type": "code",
   "execution_count": 2,
   "metadata": {},
   "outputs": [],
   "source": [
    "geo_data_1 = pd.read_csv('/datasets/geo_data_0.csv')\n",
    "geo_data_2 = pd.read_csv('/datasets/geo_data_1.csv')\n",
    "geo_data_3 = pd.read_csv('/datasets/geo_data_2.csv')"
   ]
  },
  {
   "cell_type": "markdown",
   "metadata": {},
   "source": [
    "Посмотрим, как выглядят наши данные:"
   ]
  },
  {
   "cell_type": "code",
   "execution_count": 3,
   "metadata": {},
   "outputs": [
    {
     "data": {
      "text/html": [
       "<div>\n",
       "<style scoped>\n",
       "    .dataframe tbody tr th:only-of-type {\n",
       "        vertical-align: middle;\n",
       "    }\n",
       "\n",
       "    .dataframe tbody tr th {\n",
       "        vertical-align: top;\n",
       "    }\n",
       "\n",
       "    .dataframe thead th {\n",
       "        text-align: right;\n",
       "    }\n",
       "</style>\n",
       "<table border=\"1\" class=\"dataframe\">\n",
       "  <thead>\n",
       "    <tr style=\"text-align: right;\">\n",
       "      <th></th>\n",
       "      <th>id</th>\n",
       "      <th>f0</th>\n",
       "      <th>f1</th>\n",
       "      <th>f2</th>\n",
       "      <th>product</th>\n",
       "    </tr>\n",
       "  </thead>\n",
       "  <tbody>\n",
       "    <tr>\n",
       "      <td>0</td>\n",
       "      <td>txEyH</td>\n",
       "      <td>0.705745</td>\n",
       "      <td>-0.497823</td>\n",
       "      <td>1.221170</td>\n",
       "      <td>105.280062</td>\n",
       "    </tr>\n",
       "    <tr>\n",
       "      <td>1</td>\n",
       "      <td>2acmU</td>\n",
       "      <td>1.334711</td>\n",
       "      <td>-0.340164</td>\n",
       "      <td>4.365080</td>\n",
       "      <td>73.037750</td>\n",
       "    </tr>\n",
       "    <tr>\n",
       "      <td>2</td>\n",
       "      <td>409Wp</td>\n",
       "      <td>1.022732</td>\n",
       "      <td>0.151990</td>\n",
       "      <td>1.419926</td>\n",
       "      <td>85.265647</td>\n",
       "    </tr>\n",
       "    <tr>\n",
       "      <td>3</td>\n",
       "      <td>iJLyR</td>\n",
       "      <td>-0.032172</td>\n",
       "      <td>0.139033</td>\n",
       "      <td>2.978566</td>\n",
       "      <td>168.620776</td>\n",
       "    </tr>\n",
       "    <tr>\n",
       "      <td>4</td>\n",
       "      <td>Xdl7t</td>\n",
       "      <td>1.988431</td>\n",
       "      <td>0.155413</td>\n",
       "      <td>4.751769</td>\n",
       "      <td>154.036647</td>\n",
       "    </tr>\n",
       "  </tbody>\n",
       "</table>\n",
       "</div>"
      ],
      "text/plain": [
       "      id        f0        f1        f2     product\n",
       "0  txEyH  0.705745 -0.497823  1.221170  105.280062\n",
       "1  2acmU  1.334711 -0.340164  4.365080   73.037750\n",
       "2  409Wp  1.022732  0.151990  1.419926   85.265647\n",
       "3  iJLyR -0.032172  0.139033  2.978566  168.620776\n",
       "4  Xdl7t  1.988431  0.155413  4.751769  154.036647"
      ]
     },
     "execution_count": 3,
     "metadata": {},
     "output_type": "execute_result"
    }
   ],
   "source": [
    "geo_data_1.head()"
   ]
  },
  {
   "cell_type": "markdown",
   "metadata": {},
   "source": [
    "Теперь выведем общую информацию о наших 3х структурах. Посмотрим, есть ли пропуски в данных."
   ]
  },
  {
   "cell_type": "code",
   "execution_count": 4,
   "metadata": {},
   "outputs": [
    {
     "name": "stdout",
     "output_type": "stream",
     "text": [
      "<class 'pandas.core.frame.DataFrame'>\n",
      "RangeIndex: 100000 entries, 0 to 99999\n",
      "Data columns (total 5 columns):\n",
      "id         100000 non-null object\n",
      "f0         100000 non-null float64\n",
      "f1         100000 non-null float64\n",
      "f2         100000 non-null float64\n",
      "product    100000 non-null float64\n",
      "dtypes: float64(4), object(1)\n",
      "memory usage: 3.8+ MB\n"
     ]
    }
   ],
   "source": [
    "geo_data_1.info()"
   ]
  },
  {
   "cell_type": "code",
   "execution_count": 5,
   "metadata": {},
   "outputs": [
    {
     "name": "stdout",
     "output_type": "stream",
     "text": [
      "<class 'pandas.core.frame.DataFrame'>\n",
      "RangeIndex: 100000 entries, 0 to 99999\n",
      "Data columns (total 5 columns):\n",
      "id         100000 non-null object\n",
      "f0         100000 non-null float64\n",
      "f1         100000 non-null float64\n",
      "f2         100000 non-null float64\n",
      "product    100000 non-null float64\n",
      "dtypes: float64(4), object(1)\n",
      "memory usage: 3.8+ MB\n"
     ]
    }
   ],
   "source": [
    "geo_data_2.info()"
   ]
  },
  {
   "cell_type": "code",
   "execution_count": 6,
   "metadata": {},
   "outputs": [
    {
     "name": "stdout",
     "output_type": "stream",
     "text": [
      "<class 'pandas.core.frame.DataFrame'>\n",
      "RangeIndex: 100000 entries, 0 to 99999\n",
      "Data columns (total 5 columns):\n",
      "id         100000 non-null object\n",
      "f0         100000 non-null float64\n",
      "f1         100000 non-null float64\n",
      "f2         100000 non-null float64\n",
      "product    100000 non-null float64\n",
      "dtypes: float64(4), object(1)\n",
      "memory usage: 3.8+ MB\n"
     ]
    }
   ],
   "source": [
    "geo_data_3.info()"
   ]
  },
  {
   "cell_type": "markdown",
   "metadata": {},
   "source": [
    "Я предлагаю откинуть строку 'id'. Эти признаки помогут обращаться к конкретному человеку, но они помешают нашей модели обучаться."
   ]
  },
  {
   "cell_type": "code",
   "execution_count": 7,
   "metadata": {},
   "outputs": [],
   "source": [
    "geo_data_1.drop(['id'], axis=1, inplace=True)\n",
    "geo_data_2.drop(['id'], axis=1, inplace=True)\n",
    "geo_data_3.drop(['id'], axis=1, inplace=True)"
   ]
  },
  {
   "cell_type": "markdown",
   "metadata": {},
   "source": [
    "### Вывод\n",
    "\n",
    "    Мы загрузили и изучили наши данные. Данных в предобработке не нуждаются, но мы избавились от лишнего столбца 'id'. Переходим к следующему пункту работы."
   ]
  },
  {
   "cell_type": "markdown",
   "metadata": {},
   "source": [
    "## Обучение и проверка модели"
   ]
  },
  {
   "cell_type": "markdown",
   "metadata": {},
   "source": [
    "На данном этапе нам предстоит обучить и проверить модель для каждого региона.\n",
    "\n",
    "Для начала разобьем наши выборки на тренировочные и валидационные и обучим модели."
   ]
  },
  {
   "cell_type": "code",
   "execution_count": 8,
   "metadata": {},
   "outputs": [],
   "source": [
    "# выделим целевой от всех признаков\n",
    "# для удобства напишем функцию\n",
    "def pick_features_target(df):\n",
    "    target = df['product']\n",
    "    features = df.drop('product', axis=1)\n",
    "    return features, target"
   ]
  },
  {
   "cell_type": "code",
   "execution_count": 9,
   "metadata": {},
   "outputs": [],
   "source": [
    "features_1, target_1 = pick_features_target(geo_data_1)\n",
    "features_2, target_2 = pick_features_target(geo_data_2)\n",
    "features_3, target_3 = pick_features_target(geo_data_3)"
   ]
  },
  {
   "cell_type": "code",
   "execution_count": 10,
   "metadata": {},
   "outputs": [],
   "source": [
    "# разделим выборки на тренировачную и валидационную\n",
    "# для удобства напишем функцию\n",
    "def pick_train_valid(features, target):\n",
    "    features_train, features_valid, target_train, target_valid = train_test_split(\n",
    "        features, target, test_size=0.25, random_state=12345)\n",
    "    return features_train, features_valid, target_train, target_valid"
   ]
  },
  {
   "cell_type": "code",
   "execution_count": 11,
   "metadata": {},
   "outputs": [],
   "source": [
    "features_train_1, features_valid_1, target_train_1, target_valid_1 = pick_train_valid(features_1, target_1)\n",
    "features_train_2, features_valid_2, target_train_2, target_valid_2 = pick_train_valid(features_2, target_2)\n",
    "features_train_3, features_valid_3, target_train_3, target_valid_3 = pick_train_valid(features_3, target_3)"
   ]
  },
  {
   "cell_type": "code",
   "execution_count": 12,
   "metadata": {},
   "outputs": [
    {
     "name": "stdout",
     "output_type": "stream",
     "text": [
      "(75000, 3) (25000, 3) (75000,) (25000,)\n",
      "(75000, 3) (25000, 3) (75000,) (25000,)\n",
      "(75000, 3) (25000, 3) (75000,) (25000,)\n"
     ]
    }
   ],
   "source": [
    "print(features_train_1.shape, features_valid_1.shape, target_train_1.shape, target_valid_1.shape)\n",
    "print(features_train_2.shape, features_valid_2.shape, target_train_2.shape, target_valid_2.shape)\n",
    "print(features_train_3.shape, features_valid_3.shape, target_train_3.shape, target_valid_3.shape)"
   ]
  },
  {
   "cell_type": "markdown",
   "metadata": {},
   "source": [
    "Далее мы обучим модель и сделаем предсказания на валидационной выборке для каждого региона. Затем посчитаем RMSE каждой модели."
   ]
  },
  {
   "cell_type": "code",
   "execution_count": 13,
   "metadata": {},
   "outputs": [],
   "source": [
    "model_geo_1 = LinearRegression().fit(features_train_1, target_train_1)\n",
    "model_geo_2 = LinearRegression().fit(features_train_2, target_train_2)\n",
    "model_geo_3 = LinearRegression().fit(features_train_3, target_train_3)"
   ]
  },
  {
   "cell_type": "code",
   "execution_count": 14,
   "metadata": {},
   "outputs": [],
   "source": [
    "predicted_valid_1 = model_geo_1.predict(features_valid_1)\n",
    "predicted_valid_2 = model_geo_2.predict(features_valid_2)\n",
    "predicted_valid_3 = model_geo_3.predict(features_valid_3)"
   ]
  },
  {
   "cell_type": "code",
   "execution_count": 15,
   "metadata": {},
   "outputs": [],
   "source": [
    "mse_geo_1 = mean_squared_error(target_valid_1, predicted_valid_1)\n",
    "mse_geo_2 = mean_squared_error(target_valid_2, predicted_valid_2)\n",
    "mse_geo_3 = mean_squared_error(target_valid_3, predicted_valid_3)"
   ]
  },
  {
   "cell_type": "code",
   "execution_count": 16,
   "metadata": {},
   "outputs": [
    {
     "name": "stdout",
     "output_type": "stream",
     "text": [
      "RMSE для первого региона = 37.5794217150813, средний запас предсказанного сырья = 92.59256778438038\n",
      "RMSE для второго региона = 0.893099286775616, средний запас предсказанного сырья = 68.728546895446\n",
      "RMSE для третьего региона = 40.02970873393434, средний запас предсказанного сырья = 94.96504596800489\n"
     ]
    }
   ],
   "source": [
    "print(f'RMSE для первого региона = {mse_geo_1 ** 0.5}, средний запас предсказанного сырья = {predicted_valid_1.mean()}')\n",
    "print(f'RMSE для второго региона = {mse_geo_2 ** 0.5}, средний запас предсказанного сырья = {predicted_valid_2.mean()}')\n",
    "print(f'RMSE для третьего региона = {mse_geo_3 ** 0.5}, средний запас предсказанного сырья = {predicted_valid_3.mean()}')"
   ]
  },
  {
   "cell_type": "markdown",
   "metadata": {},
   "source": [
    "Что можно сказать о полученных значениях, 40 единиц это много или мало? Чтобы не сравнивать модель со средним, рассчитаем коэффициент детерминации."
   ]
  },
  {
   "cell_type": "code",
   "execution_count": 17,
   "metadata": {},
   "outputs": [
    {
     "name": "stdout",
     "output_type": "stream",
     "text": [
      "R2 для первого региона = 0.27994321524487786\n",
      "R2 для второго региона = 0.9996233978805127\n",
      "R2 для третьего региона = 0.20524758386040443\n"
     ]
    }
   ],
   "source": [
    "print(\"R2 для первого региона =\", r2_score(target_valid_1, predicted_valid_1))\n",
    "print(\"R2 для второго региона =\", r2_score(target_valid_2, predicted_valid_2))\n",
    "print(\"R2 для третьего региона =\", r2_score(target_valid_3, predicted_valid_3))"
   ]
  },
  {
   "cell_type": "markdown",
   "metadata": {},
   "source": [
    "Модель для второго региона показала себя лучше всех (почти идеальна). А с остальными можно лишь порадоваться, что значение больше нуля, но до заветной  единицы все ещё далеко."
   ]
  },
  {
   "cell_type": "markdown",
   "metadata": {},
   "source": [
    "### Вывод\n",
    "    \n",
    "    В этой части работы мы разбили данные на выборки для обучения наших моделей. Вторая модель показала себя почти идеально, а вот с другими двумя ещё нужно работать. \n",
    "    На следующем этапе нашего проекта перейдем к расчету прибыли."
   ]
  },
  {
   "cell_type": "markdown",
   "metadata": {},
   "source": [
    "## Подготовка к расчёту прибыли"
   ]
  },
  {
   "cell_type": "markdown",
   "metadata": {},
   "source": [
    "На этом этапе мы подготовим данные для расчета прибыли скважины каждого региона. Рассчитаем достаточный объём сырья для безубыточной разработки новой скважины и сравним его со средним запасом в каждом регионе."
   ]
  },
  {
   "cell_type": "markdown",
   "metadata": {},
   "source": [
    "Для начала рассчитаем достаточный объём сырья для безубыточной работы скважины. Для этого нам необходимо поделить расходы на разработку 200 скважин (10 млрд.) на стоимость одной одной единицы продукта (450 тыс) и поделим его на 200 (количество скважин). Среднее количество сырья, которое должна приносить каждая из 200 скважин в регионе. "
   ]
  },
  {
   "cell_type": "code",
   "execution_count": 18,
   "metadata": {},
   "outputs": [
    {
     "name": "stdout",
     "output_type": "stream",
     "text": [
      "Всего с региона необходимо минимум добыть 22223 тыс. баррелей нефти\n",
      "В среднем с одной скважины необходимо добыть минимум 112 тыс. баррелей нефти\n"
     ]
    }
   ],
   "source": [
    "BUDGET  = 10**10\n",
    "UNIT_COST = 45 * 10**4\n",
    "min_number_product = (BUDGET  / UNIT_COST)\n",
    "print('Всего с региона необходимо минимум добыть',ceil(min_number_product), 'тыс. баррелей нефти')\n",
    "print('В среднем с одной скважины необходимо добыть минимум',ceil(min_number_product / 200), 'тыс. баррелей нефти')"
   ]
  },
  {
   "cell_type": "markdown",
   "metadata": {},
   "source": [
    "Теперь мы знаем, чтобы скважины работали без убытка им необходимо принести не меньше 112 тыс. баррелей нефти. Для начала рассчитаем средние значения запасов сырья в каждом регионе и сравним его с необходимым минимумом."
   ]
  },
  {
   "cell_type": "code",
   "execution_count": 19,
   "metadata": {},
   "outputs": [
    {
     "name": "stdout",
     "output_type": "stream",
     "text": [
      "Средний запас сырья в первом регионе = 92.50000000000001\n",
      "Средний запас сырья во втором регионе = 68.82500000000002\n",
      "Средний запас сырья в третьем регионе = 95.00000000000004\n"
     ]
    }
   ],
   "source": [
    "print('Средний запас сырья в первом регионе =', geo_data_1['product'].mean())\n",
    "print('Средний запас сырья во втором регионе =', geo_data_2['product'].mean())\n",
    "print('Средний запас сырья в третьем регионе =',geo_data_3['product'].mean())"
   ]
  },
  {
   "cell_type": "markdown",
   "metadata": {},
   "source": [
    "Что можно сказать о полученных значения, далеко не каждая скважина нам подойдет, чтобы работать без убытков."
   ]
  },
  {
   "cell_type": "markdown",
   "metadata": {},
   "source": [
    "### Вывод\n",
    "\n",
    "    На данном этапе работы мы подготовили данные для расчета прибыли. Узнали, сколько в среднем должна принести каждая скважина, чтобы окупить затраты на разработку. \n",
    "    Так же посмотрели на среднее значения запасов скважин каждого региона. По ним стало понятно, что далеко не каждая скважина нам подойдет, многие придется отбросить. Но ничего, скважин у нас много, так что будет, из чего выбирать.\n"
   ]
  },
  {
   "cell_type": "markdown",
   "metadata": {},
   "source": [
    "## Расчёт прибыли и рисков "
   ]
  },
  {
   "cell_type": "markdown",
   "metadata": {},
   "source": [
    "    Мы подошли к самому интересному. На этом (последнем) этапе нам предстоит написать алгоритм расчета прибыли по выбранным скважинам и предсказаниям модели. При помощи техники Bootstrap найдем среднее распределение прибыли. Затем, найдем среднюю прибыль и риск убытка. "
   ]
  },
  {
   "cell_type": "markdown",
   "metadata": {},
   "source": [
    "Для начала напишем функцию, которая будет считать прибыль по выбранным скважинам "
   ]
  },
  {
   "cell_type": "code",
   "execution_count": 20,
   "metadata": {},
   "outputs": [],
   "source": [
    "\n",
    "def calculate_profit(profit_data):\n",
    "    \n",
    "    BUDGET  = 10**10\n",
    "    PRICE_PER_BARREL = 45 * 10**4\n",
    "    \n",
    "    # выберем скважины с лучшими предсказаниями\n",
    "    total_oil = profit_data.sort_values('predict', ascending=0)['target'].head(200).sum()\n",
    "    \n",
    "    #Посчитаем какую прибыль принесут эти скважены\n",
    "    profit = total_oil * PRICE_PER_BARREL - BUDGET \n",
    "    return profit"
   ]
  },
  {
   "cell_type": "markdown",
   "metadata": {},
   "source": [
    "Далее напишем функцию, которая техникой Bootstrap с 1000 выборок будет считать распределение прибыли."
   ]
  },
  {
   "cell_type": "code",
   "execution_count": 21,
   "metadata": {},
   "outputs": [],
   "source": [
    "state = RandomState(300520) "
   ]
  },
  {
   "cell_type": "code",
   "execution_count": 22,
   "metadata": {},
   "outputs": [],
   "source": [
    "def bootstrap(target, predicted):\n",
    "    predicted = pd.Series(predicted, index=target.index)\n",
    "    profit_data = pd.DataFrame(\n",
    "        dict(target = target, predict = predicted))\n",
    "    values = []\n",
    "    \n",
    "    for i in range(1000):\n",
    "        subsample_data = profit_data.sample(500, replace=True, random_state=state)\n",
    "        values.append(calculate_profit(subsample_data))\n",
    "    \n",
    "    values = pd.Series(values)\n",
    "    lower = values.quantile(0.025)\n",
    "    upper = values.quantile(0.975)\n",
    "    mean_profit = values.mean()\n",
    "    risk = sum(values < 0) / len(values) # как я предлагаю рассчитывать риски, но тогда не один регион не подходит условию\n",
    "    return mean_profit, lower, upper, risk"
   ]
  },
  {
   "cell_type": "markdown",
   "metadata": {},
   "source": [
    "Найдите среднюю прибыль, 95%-й доверительный интервал и риск убытков для каждого региона"
   ]
  },
  {
   "cell_type": "code",
   "execution_count": 23,
   "metadata": {},
   "outputs": [],
   "source": [
    "# рассчитываем для 1ого региона\n",
    "mean_profit_1, lower_1, upper_1, risk_1 = bootstrap(target_valid_1, predicted_valid_1)"
   ]
  },
  {
   "cell_type": "code",
   "execution_count": 24,
   "metadata": {},
   "outputs": [
    {
     "name": "stdout",
     "output_type": "stream",
     "text": [
      "Значения региона №1\n",
      "Средняя прибыль: 385768963.83112484\n",
      "95%-й доверительный интервал находится в диапазоне: [-137895829.9016504; 930625598.2533405]\n",
      "Риск убытков: 8.4%\n"
     ]
    }
   ],
   "source": [
    "print('Значения региона №1')\n",
    "print(f'Средняя прибыль: {mean_profit_1}')\n",
    "print(f'95%-й доверительный интервал находится в диапазоне: [{lower_1}; {upper_1}]')\n",
    "print(f'Риск убытков: {risk_1:.1%}')"
   ]
  },
  {
   "cell_type": "code",
   "execution_count": 25,
   "metadata": {},
   "outputs": [],
   "source": [
    "# рассчитываем для 2ого региона\n",
    "mean_profit_2, lower_2, upper_2, risk_2 = bootstrap(target_valid_2, predicted_valid_2)"
   ]
  },
  {
   "cell_type": "code",
   "execution_count": 26,
   "metadata": {},
   "outputs": [
    {
     "name": "stdout",
     "output_type": "stream",
     "text": [
      "Значения региона №2\n",
      "Средняя прибыль: 450509942.6346684\n",
      "95%-й доверительный интервал находится в диапазоне: [37365899.88851986; 852378088.6282743]\n",
      "Риск убытков: 2.0%\n"
     ]
    }
   ],
   "source": [
    "print('Значения региона №2')\n",
    "print(f'Средняя прибыль: {mean_profit_2}')\n",
    "print(f'95%-й доверительный интервал находится в диапазоне: [{lower_2}; {upper_2}]')\n",
    "print(f'Риск убытков: {risk_2:.1%}')"
   ]
  },
  {
   "cell_type": "code",
   "execution_count": 27,
   "metadata": {},
   "outputs": [],
   "source": [
    "# рассчитываем для 3его региона\n",
    "mean_profit_3, lower_3, upper_3, risk_3 = bootstrap(target_valid_3, predicted_valid_3)"
   ]
  },
  {
   "cell_type": "code",
   "execution_count": 28,
   "metadata": {},
   "outputs": [
    {
     "name": "stdout",
     "output_type": "stream",
     "text": [
      "Значения региона №3\n",
      "Средняя прибыль: 393301341.8945429\n",
      "95%-й доверительный интервал находится в диапазоне: [-136489823.77742466; 904121251.3918412]\n",
      "Риск убытков: 6.0%\n"
     ]
    }
   ],
   "source": [
    "print('Значения региона №3')\n",
    "print(f'Средняя прибыль: {mean_profit_3}')\n",
    "print(f'95%-й доверительный интервал находится в диапазоне: [{lower_3}; {upper_3}]')\n",
    "print(f'Риск убытков: {risk_3:.1%}')"
   ]
  },
  {
   "cell_type": "markdown",
   "metadata": {},
   "source": [
    "### Вывод\n",
    "\n",
    "    На этом этапе мы написали алгоритм, который методом bootstrap брал случайные 500 предсказаний объема запасов нефти. Затем из них выбирал лучшие 200 локаций для станции и считал для них реальные значения запасов нефти. Затем алгоритм рассчитывал прибыль с выбранных станций и рассчитывал 95%-й доверительный интервал.\n",
    "    Результат: \n",
    "* В регионе №1 риск убытков самый большой, 8.4%. В регионе №3 риск убытков уменьшился, 6%, но это значение все ещё не подходит нашей задачи. А вот регион №1 это то, что нам нужно. Риск убытков всего 2%, а нам было необходимо найти регион, в котором риск потерять деньги равен меньше 2.5%."
   ]
  },
  {
   "cell_type": "markdown",
   "metadata": {},
   "source": [
    "## Общий Вывод\n",
    "\n",
    "    В нашей работы мы построили модель, которая предсказывает объём запасов нефти в скважине. Затем с помощью техники bootstrap рассчитывали среднюю прибыль среди выбранных скважин. Результаты показали, что выгодней всего бурить скважины в регионе под номером 2(1), шанс убытка равен 2%, что удволетворяет поставленной задаче. Так как в других регионах шанс убытка более 2.5%, эти регионы, для разработки скважин, мы не рассматриваем."
   ]
  }
 ],
 "metadata": {
  "ExecuteTimeLog": [
   {
    "duration": 430,
    "start_time": "2021-11-09T09:42:12.983Z"
   },
   {
    "duration": 1361,
    "start_time": "2021-11-09T09:42:16.511Z"
   },
   {
    "duration": 455,
    "start_time": "2021-11-09T09:42:18.377Z"
   },
   {
    "duration": 455,
    "start_time": "2021-11-09T09:43:17.883Z"
   },
   {
    "duration": 22,
    "start_time": "2021-11-09T09:43:45.953Z"
   },
   {
    "duration": 17,
    "start_time": "2021-11-09T09:44:37.460Z"
   },
   {
    "duration": 13,
    "start_time": "2021-11-09T09:44:54.144Z"
   },
   {
    "duration": 17,
    "start_time": "2021-11-09T09:45:04.392Z"
   },
   {
    "duration": 13,
    "start_time": "2021-11-09T09:45:15.722Z"
   },
   {
    "duration": 3,
    "start_time": "2021-11-09T09:51:33.155Z"
   },
   {
    "duration": 3,
    "start_time": "2021-11-09T09:52:12.093Z"
   },
   {
    "duration": 4,
    "start_time": "2021-11-09T09:55:35.903Z"
   },
   {
    "duration": 4,
    "start_time": "2021-11-09T09:56:36.387Z"
   },
   {
    "duration": 7,
    "start_time": "2021-11-09T09:56:44.860Z"
   },
   {
    "duration": 493,
    "start_time": "2021-11-09T09:56:52.637Z"
   },
   {
    "duration": 11,
    "start_time": "2021-11-09T09:56:56.723Z"
   },
   {
    "duration": 7,
    "start_time": "2021-11-09T09:57:03.970Z"
   },
   {
    "duration": 384,
    "start_time": "2021-11-09T09:57:31.093Z"
   },
   {
    "duration": 18,
    "start_time": "2021-11-09T09:57:55.034Z"
   },
   {
    "duration": 490,
    "start_time": "2021-11-09T10:17:55.608Z"
   },
   {
    "duration": 5,
    "start_time": "2021-11-09T10:18:00.043Z"
   },
   {
    "duration": 857,
    "start_time": "2021-11-09T10:18:00.445Z"
   },
   {
    "duration": 4,
    "start_time": "2021-11-09T10:18:16.475Z"
   },
   {
    "duration": 70,
    "start_time": "2021-11-09T10:18:17.400Z"
   },
   {
    "duration": 395,
    "start_time": "2021-11-09T10:18:51.925Z"
   },
   {
    "duration": 146,
    "start_time": "2021-11-09T10:19:02.352Z"
   },
   {
    "duration": 10,
    "start_time": "2021-11-09T10:19:04.660Z"
   },
   {
    "duration": 7,
    "start_time": "2021-11-09T10:19:45.449Z"
   },
   {
    "duration": 3,
    "start_time": "2021-11-09T10:21:44.638Z"
   },
   {
    "duration": 424,
    "start_time": "2021-11-09T10:26:39.112Z"
   },
   {
    "duration": 4,
    "start_time": "2021-11-09T10:26:59.545Z"
   },
   {
    "duration": 412,
    "start_time": "2021-11-09T10:27:38.913Z"
   },
   {
    "duration": 4,
    "start_time": "2021-11-09T10:27:42.881Z"
   },
   {
    "duration": 410,
    "start_time": "2021-11-09T10:27:47.202Z"
   },
   {
    "duration": 15,
    "start_time": "2021-11-09T10:33:57.883Z"
   },
   {
    "duration": 4,
    "start_time": "2021-11-09T10:34:02.178Z"
   },
   {
    "duration": 14,
    "start_time": "2021-11-09T10:34:02.723Z"
   },
   {
    "duration": 5,
    "start_time": "2021-11-09T10:34:03.056Z"
   },
   {
    "duration": 54,
    "start_time": "2021-11-09T10:34:03.445Z"
   },
   {
    "duration": 8,
    "start_time": "2021-11-09T10:34:03.789Z"
   },
   {
    "duration": 12,
    "start_time": "2021-11-09T10:34:07.183Z"
   },
   {
    "duration": 10,
    "start_time": "2021-11-09T10:34:20.105Z"
   },
   {
    "duration": 387,
    "start_time": "2021-11-09T10:39:47.413Z"
   },
   {
    "duration": 448,
    "start_time": "2021-11-09T10:40:04.041Z"
   },
   {
    "duration": 402,
    "start_time": "2021-11-09T10:40:23.484Z"
   },
   {
    "duration": 19,
    "start_time": "2021-11-09T10:40:29.973Z"
   },
   {
    "duration": 24,
    "start_time": "2021-11-09T10:41:02.313Z"
   },
   {
    "duration": 7,
    "start_time": "2021-11-09T10:41:02.801Z"
   },
   {
    "duration": 33,
    "start_time": "2021-11-09T10:41:32.427Z"
   },
   {
    "duration": 5,
    "start_time": "2021-11-09T10:44:30.309Z"
   },
   {
    "duration": 4,
    "start_time": "2021-11-09T10:44:39.885Z"
   },
   {
    "duration": 4,
    "start_time": "2021-11-09T10:44:45.217Z"
   },
   {
    "duration": 5,
    "start_time": "2021-11-09T10:45:24.671Z"
   },
   {
    "duration": 5,
    "start_time": "2021-11-09T10:45:38.684Z"
   },
   {
    "duration": 14,
    "start_time": "2021-11-09T11:05:52.413Z"
   },
   {
    "duration": 6,
    "start_time": "2021-11-09T11:05:53.100Z"
   },
   {
    "duration": 5,
    "start_time": "2021-11-09T11:05:53.938Z"
   },
   {
    "duration": 6,
    "start_time": "2021-11-09T11:08:42.983Z"
   },
   {
    "duration": 6,
    "start_time": "2021-11-09T11:09:01.907Z"
   },
   {
    "duration": 4,
    "start_time": "2021-11-09T11:34:14.797Z"
   },
   {
    "duration": 10,
    "start_time": "2021-11-09T11:39:28.260Z"
   },
   {
    "duration": 124,
    "start_time": "2021-11-09T11:40:23.450Z"
   },
   {
    "duration": 9,
    "start_time": "2021-11-09T11:42:41.103Z"
   },
   {
    "duration": 4,
    "start_time": "2021-11-09T11:59:43.849Z"
   },
   {
    "duration": 3,
    "start_time": "2021-11-09T12:01:44.931Z"
   },
   {
    "duration": 6,
    "start_time": "2021-11-09T12:01:49.781Z"
   },
   {
    "duration": 6,
    "start_time": "2021-11-09T12:01:56.761Z"
   },
   {
    "duration": 6,
    "start_time": "2021-11-09T12:02:01.100Z"
   },
   {
    "duration": 379,
    "start_time": "2021-11-09T12:02:28.930Z"
   },
   {
    "duration": 5,
    "start_time": "2021-11-09T12:04:00.676Z"
   },
   {
    "duration": 401,
    "start_time": "2021-11-09T12:04:05.947Z"
   },
   {
    "duration": 6,
    "start_time": "2021-11-09T12:04:09.972Z"
   },
   {
    "duration": 6,
    "start_time": "2021-11-09T12:08:20.923Z"
   },
   {
    "duration": 6,
    "start_time": "2021-11-09T12:08:26.581Z"
   },
   {
    "duration": 6,
    "start_time": "2021-11-09T12:08:32.133Z"
   },
   {
    "duration": 6,
    "start_time": "2021-11-09T12:08:35.607Z"
   },
   {
    "duration": 414,
    "start_time": "2021-11-09T12:08:58.793Z"
   },
   {
    "duration": 15,
    "start_time": "2021-11-09T12:09:12.752Z"
   },
   {
    "duration": 19,
    "start_time": "2021-11-09T12:09:38.550Z"
   },
   {
    "duration": 383,
    "start_time": "2021-11-09T12:10:13.670Z"
   },
   {
    "duration": 11,
    "start_time": "2021-11-09T12:10:17.666Z"
   },
   {
    "duration": 12,
    "start_time": "2021-11-09T12:10:21.764Z"
   },
   {
    "duration": 11,
    "start_time": "2021-11-09T12:10:26.309Z"
   },
   {
    "duration": 11,
    "start_time": "2021-11-09T12:10:47.382Z"
   },
   {
    "duration": 10,
    "start_time": "2021-11-09T12:10:51.764Z"
   },
   {
    "duration": 11,
    "start_time": "2021-11-09T12:10:57.241Z"
   },
   {
    "duration": 10,
    "start_time": "2021-11-09T12:11:05.930Z"
   },
   {
    "duration": 6,
    "start_time": "2021-11-09T12:12:59.861Z"
   },
   {
    "duration": 7,
    "start_time": "2021-11-09T12:13:05.526Z"
   },
   {
    "duration": 26,
    "start_time": "2021-11-09T12:18:13.529Z"
   },
   {
    "duration": 124,
    "start_time": "2021-11-09T12:18:32.338Z"
   },
   {
    "duration": 8,
    "start_time": "2021-11-09T12:19:06.604Z"
   },
   {
    "duration": 184,
    "start_time": "2021-11-09T12:19:12.845Z"
   },
   {
    "duration": 141,
    "start_time": "2021-11-09T12:19:29.502Z"
   },
   {
    "duration": 7,
    "start_time": "2021-11-09T12:19:30.244Z"
   },
   {
    "duration": 8,
    "start_time": "2021-11-09T12:19:41.302Z"
   },
   {
    "duration": 121,
    "start_time": "2021-11-09T12:19:45.603Z"
   },
   {
    "duration": 5,
    "start_time": "2021-11-09T12:20:01.446Z"
   },
   {
    "duration": 132,
    "start_time": "2021-11-09T12:20:16.146Z"
   },
   {
    "duration": 153,
    "start_time": "2021-11-09T12:20:37.127Z"
   },
   {
    "duration": 8,
    "start_time": "2021-11-09T12:20:49.220Z"
   },
   {
    "duration": 5,
    "start_time": "2021-11-09T13:02:00.841Z"
   },
   {
    "duration": 404,
    "start_time": "2021-11-09T13:02:13.472Z"
   },
   {
    "duration": 383,
    "start_time": "2021-11-09T13:02:23.727Z"
   },
   {
    "duration": 401,
    "start_time": "2021-11-09T13:02:36.355Z"
   },
   {
    "duration": 8,
    "start_time": "2021-11-09T13:02:55.118Z"
   },
   {
    "duration": 7,
    "start_time": "2021-11-09T13:03:29.358Z"
   },
   {
    "duration": 385,
    "start_time": "2021-11-09T13:04:27.903Z"
   },
   {
    "duration": 384,
    "start_time": "2021-11-09T13:04:45.418Z"
   },
   {
    "duration": 4,
    "start_time": "2021-11-09T13:04:50.726Z"
   },
   {
    "duration": 7,
    "start_time": "2021-11-09T13:04:51.365Z"
   },
   {
    "duration": 9,
    "start_time": "2021-11-09T13:04:51.832Z"
   },
   {
    "duration": 388,
    "start_time": "2021-11-09T13:06:22.803Z"
   },
   {
    "duration": 390,
    "start_time": "2021-11-09T13:06:33.891Z"
   },
   {
    "duration": 399,
    "start_time": "2021-11-09T13:08:12.545Z"
   },
   {
    "duration": 4,
    "start_time": "2021-11-09T13:08:18.349Z"
   },
   {
    "duration": 399,
    "start_time": "2021-11-09T13:08:24.159Z"
   },
   {
    "duration": 7,
    "start_time": "2021-11-09T13:08:35.991Z"
   },
   {
    "duration": 5,
    "start_time": "2021-11-09T13:08:42.547Z"
   },
   {
    "duration": 7,
    "start_time": "2021-11-09T13:08:55.917Z"
   },
   {
    "duration": 4,
    "start_time": "2021-11-09T13:09:32.422Z"
   },
   {
    "duration": 8,
    "start_time": "2021-11-09T13:09:36.017Z"
   },
   {
    "duration": 1037,
    "start_time": "2021-11-09T13:10:13.468Z"
   },
   {
    "duration": 387,
    "start_time": "2021-11-09T13:10:20.372Z"
   },
   {
    "duration": 17,
    "start_time": "2021-11-09T13:10:24.908Z"
   },
   {
    "duration": 19,
    "start_time": "2021-11-09T13:10:37.937Z"
   },
   {
    "duration": 18,
    "start_time": "2021-11-09T13:10:42.225Z"
   },
   {
    "duration": 16,
    "start_time": "2021-11-09T13:12:57.773Z"
   },
   {
    "duration": 5,
    "start_time": "2021-11-09T13:18:25.147Z"
   },
   {
    "duration": 17,
    "start_time": "2021-11-09T13:18:38.858Z"
   },
   {
    "duration": 431,
    "start_time": "2021-11-09T13:18:46.230Z"
   },
   {
    "duration": 7,
    "start_time": "2021-11-09T13:18:50.284Z"
   },
   {
    "duration": 12,
    "start_time": "2021-11-09T13:18:54.893Z"
   },
   {
    "duration": 6,
    "start_time": "2021-11-09T13:19:45.751Z"
   },
   {
    "duration": 13,
    "start_time": "2021-11-09T13:19:48.052Z"
   },
   {
    "duration": 7,
    "start_time": "2021-11-09T13:19:50.865Z"
   },
   {
    "duration": 12,
    "start_time": "2021-11-09T13:19:51.392Z"
   },
   {
    "duration": 9,
    "start_time": "2021-11-09T13:20:05.875Z"
   },
   {
    "duration": 5,
    "start_time": "2021-11-09T13:20:33.099Z"
   },
   {
    "duration": 7,
    "start_time": "2021-11-09T13:20:40.545Z"
   },
   {
    "duration": 6,
    "start_time": "2021-11-09T13:21:26.838Z"
   },
   {
    "duration": 6,
    "start_time": "2021-11-09T13:21:38.948Z"
   },
   {
    "duration": 5,
    "start_time": "2021-11-09T13:22:32.203Z"
   },
   {
    "duration": 702,
    "start_time": "2021-11-09T13:23:02.344Z"
   },
   {
    "duration": 787,
    "start_time": "2021-11-09T13:23:20.555Z"
   },
   {
    "duration": 5,
    "start_time": "2021-11-09T13:23:30.621Z"
   },
   {
    "duration": 12,
    "start_time": "2021-11-09T13:23:32.321Z"
   },
   {
    "duration": 139,
    "start_time": "2021-11-09T13:25:26.529Z"
   },
   {
    "duration": 5,
    "start_time": "2021-11-09T13:25:33.552Z"
   },
   {
    "duration": 13,
    "start_time": "2021-11-09T13:25:34.015Z"
   },
   {
    "duration": 784,
    "start_time": "2021-11-09T13:26:26.951Z"
   },
   {
    "duration": 37,
    "start_time": "2021-11-09T13:26:31.273Z"
   },
   {
    "duration": 27,
    "start_time": "2021-11-09T13:26:40.088Z"
   },
   {
    "duration": 381,
    "start_time": "2021-11-09T13:41:23.723Z"
   },
   {
    "duration": 398,
    "start_time": "2021-11-09T13:41:36.825Z"
   },
   {
    "duration": 18,
    "start_time": "2021-11-09T13:41:41.356Z"
   },
   {
    "duration": 5,
    "start_time": "2021-11-09T13:46:04.452Z"
   },
   {
    "duration": 5,
    "start_time": "2021-11-09T13:50:37.732Z"
   },
   {
    "duration": 6,
    "start_time": "2021-11-09T13:52:07.882Z"
   },
   {
    "duration": 6,
    "start_time": "2021-11-09T13:52:26.989Z"
   },
   {
    "duration": 5,
    "start_time": "2021-11-09T14:08:21.044Z"
   },
   {
    "duration": 5,
    "start_time": "2021-11-09T14:08:21.793Z"
   },
   {
    "duration": 4,
    "start_time": "2021-11-09T14:08:22.451Z"
   },
   {
    "duration": 5,
    "start_time": "2021-11-09T14:11:05.395Z"
   },
   {
    "duration": 2276,
    "start_time": "2021-11-09T14:59:43.076Z"
   },
   {
    "duration": 6,
    "start_time": "2021-11-09T15:00:05.244Z"
   },
   {
    "duration": 1413,
    "start_time": "2021-11-09T15:00:09.579Z"
   },
   {
    "duration": 406,
    "start_time": "2021-11-09T15:00:53.854Z"
   },
   {
    "duration": 1264,
    "start_time": "2021-11-09T15:01:05.727Z"
   },
   {
    "duration": 444,
    "start_time": "2021-11-09T15:01:20.398Z"
   },
   {
    "duration": 8,
    "start_time": "2021-11-09T15:01:29.873Z"
   },
   {
    "duration": 8,
    "start_time": "2021-11-09T15:01:40.654Z"
   },
   {
    "duration": 6,
    "start_time": "2021-11-09T15:03:06.727Z"
   },
   {
    "duration": 12,
    "start_time": "2021-11-09T15:03:07.383Z"
   },
   {
    "duration": 6,
    "start_time": "2021-11-09T15:03:08.439Z"
   },
   {
    "duration": 768,
    "start_time": "2021-11-09T15:03:09.046Z"
   },
   {
    "duration": 5,
    "start_time": "2021-11-09T15:03:22.068Z"
   },
   {
    "duration": 4,
    "start_time": "2021-11-09T15:03:22.564Z"
   },
   {
    "duration": 6,
    "start_time": "2021-11-09T15:03:22.933Z"
   },
   {
    "duration": 8,
    "start_time": "2021-11-09T15:03:23.416Z"
   },
   {
    "duration": 7,
    "start_time": "2021-11-09T15:03:23.791Z"
   },
   {
    "duration": 1272,
    "start_time": "2021-11-09T15:03:24.352Z"
   },
   {
    "duration": 145,
    "start_time": "2021-11-09T15:05:26.969Z"
   },
   {
    "duration": 620,
    "start_time": "2021-11-09T15:05:38.543Z"
   },
   {
    "duration": 4,
    "start_time": "2021-11-09T15:05:49.264Z"
   },
   {
    "duration": 6,
    "start_time": "2021-11-09T15:06:26.930Z"
   },
   {
    "duration": 5,
    "start_time": "2021-11-09T15:06:31.035Z"
   },
   {
    "duration": 13,
    "start_time": "2021-11-09T15:06:34.679Z"
   },
   {
    "duration": 408,
    "start_time": "2021-11-09T15:07:37.110Z"
   },
   {
    "duration": 446,
    "start_time": "2021-11-09T15:07:55.893Z"
   },
   {
    "duration": 985,
    "start_time": "2021-11-09T15:08:00.263Z"
   },
   {
    "duration": 669,
    "start_time": "2021-11-09T15:09:54.297Z"
   },
   {
    "duration": 4,
    "start_time": "2021-11-09T15:10:03.016Z"
   },
   {
    "duration": 8,
    "start_time": "2021-11-09T15:10:05.924Z"
   },
   {
    "duration": 8,
    "start_time": "2021-11-09T15:10:28.675Z"
   },
   {
    "duration": 7249,
    "start_time": "2021-11-09T15:10:33.131Z"
   },
   {
    "duration": 6463,
    "start_time": "2021-11-09T15:11:05.283Z"
   },
   {
    "duration": 5,
    "start_time": "2021-11-09T15:11:43.407Z"
   },
   {
    "duration": 6,
    "start_time": "2021-11-09T15:11:47.040Z"
   },
   {
    "duration": 5,
    "start_time": "2021-11-09T15:11:51.358Z"
   },
   {
    "duration": 4,
    "start_time": "2021-11-09T15:11:51.904Z"
   },
   {
    "duration": 7,
    "start_time": "2021-11-09T15:11:52.481Z"
   },
   {
    "duration": 6239,
    "start_time": "2021-11-09T15:11:52.968Z"
   },
   {
    "duration": 7,
    "start_time": "2021-11-09T15:12:13.896Z"
   },
   {
    "duration": 4,
    "start_time": "2021-11-09T15:14:21.111Z"
   },
   {
    "duration": 7,
    "start_time": "2021-11-09T15:14:21.683Z"
   },
   {
    "duration": 7,
    "start_time": "2021-11-09T15:14:22.516Z"
   },
   {
    "duration": 11634,
    "start_time": "2021-11-09T15:14:23.993Z"
   },
   {
    "duration": 8,
    "start_time": "2021-11-09T15:14:35.632Z"
   },
   {
    "duration": 11,
    "start_time": "2021-11-09T15:14:52.512Z"
   },
   {
    "duration": 10824,
    "start_time": "2021-11-09T15:14:53.619Z"
   },
   {
    "duration": 6,
    "start_time": "2021-11-09T15:15:06.602Z"
   },
   {
    "duration": 5,
    "start_time": "2021-11-09T15:15:55.630Z"
   },
   {
    "duration": 8,
    "start_time": "2021-11-09T15:15:56.585Z"
   },
   {
    "duration": 11,
    "start_time": "2021-11-09T15:15:57.026Z"
   },
   {
    "duration": 6113,
    "start_time": "2021-11-09T15:15:57.554Z"
   },
   {
    "duration": 5,
    "start_time": "2021-11-09T15:16:07.514Z"
   },
   {
    "duration": 6,
    "start_time": "2021-11-09T15:18:30.840Z"
   },
   {
    "duration": 1394,
    "start_time": "2021-11-09T15:18:32.080Z"
   },
   {
    "duration": 5,
    "start_time": "2021-11-09T15:18:34.989Z"
   },
   {
    "duration": 5,
    "start_time": "2021-11-09T15:18:48.833Z"
   },
   {
    "duration": 6,
    "start_time": "2021-11-09T15:18:49.400Z"
   },
   {
    "duration": 1410,
    "start_time": "2021-11-09T15:18:50.697Z"
   },
   {
    "duration": 4,
    "start_time": "2021-11-09T15:18:52.110Z"
   },
   {
    "duration": 7,
    "start_time": "2021-11-09T15:38:37.693Z"
   },
   {
    "duration": 1644,
    "start_time": "2021-11-09T15:38:38.258Z"
   },
   {
    "duration": 4,
    "start_time": "2021-11-09T15:38:40.411Z"
   },
   {
    "duration": 4,
    "start_time": "2021-11-09T15:40:44.547Z"
   },
   {
    "duration": 6,
    "start_time": "2021-11-09T15:42:06.529Z"
   },
   {
    "duration": 1423,
    "start_time": "2021-11-09T15:43:39.284Z"
   },
   {
    "duration": 5,
    "start_time": "2021-11-09T15:43:41.200Z"
   },
   {
    "duration": 1508,
    "start_time": "2021-11-09T15:43:41.976Z"
   },
   {
    "duration": 6,
    "start_time": "2021-11-09T15:43:44.951Z"
   },
   {
    "duration": 1426,
    "start_time": "2021-11-09T15:44:00.051Z"
   },
   {
    "duration": 6,
    "start_time": "2021-11-09T15:44:02.155Z"
   },
   {
    "duration": 1665,
    "start_time": "2021-11-09T15:44:03.839Z"
   },
   {
    "duration": 5,
    "start_time": "2021-11-09T15:44:06.562Z"
   },
   {
    "duration": 1393,
    "start_time": "2021-11-09T15:44:07.928Z"
   },
   {
    "duration": 5,
    "start_time": "2021-11-09T15:44:10.040Z"
   },
   {
    "duration": 1588,
    "start_time": "2021-11-09T15:45:59.621Z"
   },
   {
    "duration": 477,
    "start_time": "2021-11-09T15:46:01.211Z"
   },
   {
    "duration": 22,
    "start_time": "2021-11-09T15:46:01.691Z"
   },
   {
    "duration": 14,
    "start_time": "2021-11-09T15:46:01.716Z"
   },
   {
    "duration": 36,
    "start_time": "2021-11-09T15:46:01.732Z"
   },
   {
    "duration": 14,
    "start_time": "2021-11-09T15:46:01.770Z"
   },
   {
    "duration": 38,
    "start_time": "2021-11-09T15:46:01.786Z"
   },
   {
    "duration": 10,
    "start_time": "2021-11-09T15:46:01.827Z"
   },
   {
    "duration": 38,
    "start_time": "2021-11-09T15:46:01.840Z"
   },
   {
    "duration": 9,
    "start_time": "2021-11-09T15:46:01.880Z"
   },
   {
    "duration": 48,
    "start_time": "2021-11-09T15:46:01.892Z"
   },
   {
    "duration": 7,
    "start_time": "2021-11-09T15:46:01.943Z"
   },
   {
    "duration": 27,
    "start_time": "2021-11-09T15:46:01.960Z"
   },
   {
    "duration": 74,
    "start_time": "2021-11-09T15:46:01.989Z"
   },
   {
    "duration": 97,
    "start_time": "2021-11-09T15:46:02.066Z"
   },
   {
    "duration": 33,
    "start_time": "2021-11-09T15:46:02.166Z"
   },
   {
    "duration": 22,
    "start_time": "2021-11-09T15:46:02.202Z"
   },
   {
    "duration": 16,
    "start_time": "2021-11-09T15:46:02.226Z"
   },
   {
    "duration": 16,
    "start_time": "2021-11-09T15:46:02.245Z"
   },
   {
    "duration": 8,
    "start_time": "2021-11-09T15:46:02.265Z"
   },
   {
    "duration": 9,
    "start_time": "2021-11-09T15:46:02.277Z"
   },
   {
    "duration": 11,
    "start_time": "2021-11-09T15:46:02.290Z"
   },
   {
    "duration": 1398,
    "start_time": "2021-11-09T15:46:02.306Z"
   },
   {
    "duration": 4,
    "start_time": "2021-11-09T15:46:03.707Z"
   },
   {
    "duration": 1581,
    "start_time": "2021-11-09T15:46:03.714Z"
   },
   {
    "duration": 15,
    "start_time": "2021-11-09T15:46:05.303Z"
   },
   {
    "duration": 1587,
    "start_time": "2021-11-09T15:46:05.335Z"
   },
   {
    "duration": 6,
    "start_time": "2021-11-09T15:46:06.924Z"
   },
   {
    "duration": 4,
    "start_time": "2021-11-09T15:48:15.084Z"
   },
   {
    "duration": 6,
    "start_time": "2021-11-09T15:48:15.498Z"
   },
   {
    "duration": 2625,
    "start_time": "2021-11-09T15:48:16.343Z"
   },
   {
    "duration": 6,
    "start_time": "2021-11-09T15:48:19.459Z"
   },
   {
    "duration": 1454,
    "start_time": "2021-11-09T15:48:20.478Z"
   },
   {
    "duration": 4,
    "start_time": "2021-11-09T15:48:22.279Z"
   },
   {
    "duration": 1353,
    "start_time": "2021-11-09T15:48:23.526Z"
   },
   {
    "duration": 6,
    "start_time": "2021-11-09T15:48:24.883Z"
   },
   {
    "duration": 3358,
    "start_time": "2021-11-09T16:08:51.539Z"
   },
   {
    "duration": 12,
    "start_time": "2021-11-09T16:09:01.982Z"
   },
   {
    "duration": 2702,
    "start_time": "2021-11-09T16:09:03.038Z"
   },
   {
    "duration": 400,
    "start_time": "2021-11-09T16:09:13.388Z"
   },
   {
    "duration": 5,
    "start_time": "2021-11-09T16:09:17.807Z"
   },
   {
    "duration": 1490,
    "start_time": "2021-11-09T16:09:32.800Z"
   },
   {
    "duration": 4,
    "start_time": "2021-11-09T16:09:36.486Z"
   },
   {
    "duration": 6,
    "start_time": "2021-11-09T16:09:55.592Z"
   },
   {
    "duration": 2571,
    "start_time": "2021-11-09T16:09:56.433Z"
   },
   {
    "duration": 7,
    "start_time": "2021-11-09T16:09:59.007Z"
   },
   {
    "duration": 8,
    "start_time": "2021-11-09T16:10:55.291Z"
   },
   {
    "duration": 7,
    "start_time": "2021-11-09T16:11:10.799Z"
   },
   {
    "duration": 6,
    "start_time": "2021-11-09T16:11:32.036Z"
   },
   {
    "duration": 5,
    "start_time": "2021-11-09T16:11:46.993Z"
   },
   {
    "duration": 1846,
    "start_time": "2021-11-09T16:44:57.574Z"
   },
   {
    "duration": 672,
    "start_time": "2021-11-09T16:44:59.425Z"
   },
   {
    "duration": 23,
    "start_time": "2021-11-09T16:45:00.101Z"
   },
   {
    "duration": 34,
    "start_time": "2021-11-09T16:45:00.127Z"
   },
   {
    "duration": 14,
    "start_time": "2021-11-09T16:45:00.163Z"
   },
   {
    "duration": 22,
    "start_time": "2021-11-09T16:45:00.179Z"
   },
   {
    "duration": 21,
    "start_time": "2021-11-09T16:45:00.204Z"
   },
   {
    "duration": 33,
    "start_time": "2021-11-09T16:45:00.229Z"
   },
   {
    "duration": 28,
    "start_time": "2021-11-09T16:45:00.265Z"
   },
   {
    "duration": 43,
    "start_time": "2021-11-09T16:45:00.296Z"
   },
   {
    "duration": 89,
    "start_time": "2021-11-09T16:45:00.342Z"
   },
   {
    "duration": 8,
    "start_time": "2021-11-09T16:45:00.434Z"
   },
   {
    "duration": 49,
    "start_time": "2021-11-09T16:45:00.445Z"
   },
   {
    "duration": 79,
    "start_time": "2021-11-09T16:45:00.497Z"
   },
   {
    "duration": 85,
    "start_time": "2021-11-09T16:45:00.579Z"
   },
   {
    "duration": 118,
    "start_time": "2021-11-09T16:45:00.667Z"
   },
   {
    "duration": 39,
    "start_time": "2021-11-09T16:45:00.788Z"
   },
   {
    "duration": 27,
    "start_time": "2021-11-09T16:45:00.830Z"
   },
   {
    "duration": 33,
    "start_time": "2021-11-09T16:45:00.860Z"
   },
   {
    "duration": 20,
    "start_time": "2021-11-09T16:45:00.896Z"
   },
   {
    "duration": 27,
    "start_time": "2021-11-09T16:45:00.919Z"
   },
   {
    "duration": 56,
    "start_time": "2021-11-09T16:45:00.949Z"
   },
   {
    "duration": 2653,
    "start_time": "2021-11-09T16:45:01.015Z"
   },
   {
    "duration": 6,
    "start_time": "2021-11-09T16:45:03.672Z"
   },
   {
    "duration": 1417,
    "start_time": "2021-11-09T16:45:03.681Z"
   },
   {
    "duration": 6,
    "start_time": "2021-11-09T16:45:05.100Z"
   },
   {
    "duration": 1406,
    "start_time": "2021-11-09T16:45:05.108Z"
   },
   {
    "duration": 5,
    "start_time": "2021-11-09T16:45:06.516Z"
   },
   {
    "duration": 1319,
    "start_time": "2021-11-09T17:06:50.544Z"
   },
   {
    "duration": 536,
    "start_time": "2021-11-09T17:06:51.866Z"
   },
   {
    "duration": 35,
    "start_time": "2021-11-09T17:06:52.406Z"
   },
   {
    "duration": 22,
    "start_time": "2021-11-09T17:06:52.445Z"
   },
   {
    "duration": 21,
    "start_time": "2021-11-09T17:06:52.470Z"
   },
   {
    "duration": 52,
    "start_time": "2021-11-09T17:06:52.494Z"
   },
   {
    "duration": 28,
    "start_time": "2021-11-09T17:06:52.549Z"
   },
   {
    "duration": 12,
    "start_time": "2021-11-09T17:06:52.580Z"
   },
   {
    "duration": 35,
    "start_time": "2021-11-09T17:06:52.598Z"
   },
   {
    "duration": 6,
    "start_time": "2021-11-09T17:06:52.637Z"
   },
   {
    "duration": 84,
    "start_time": "2021-11-09T17:06:52.646Z"
   },
   {
    "duration": 6,
    "start_time": "2021-11-09T17:06:52.732Z"
   },
   {
    "duration": 31,
    "start_time": "2021-11-09T17:06:52.740Z"
   },
   {
    "duration": 65,
    "start_time": "2021-11-09T17:06:52.773Z"
   },
   {
    "duration": 94,
    "start_time": "2021-11-09T17:06:52.842Z"
   },
   {
    "duration": 92,
    "start_time": "2021-11-09T17:06:52.940Z"
   },
   {
    "duration": 14,
    "start_time": "2021-11-09T17:06:53.035Z"
   },
   {
    "duration": 7,
    "start_time": "2021-11-09T17:06:53.051Z"
   },
   {
    "duration": 15,
    "start_time": "2021-11-09T17:06:53.060Z"
   },
   {
    "duration": 5,
    "start_time": "2021-11-09T17:06:53.077Z"
   },
   {
    "duration": 45,
    "start_time": "2021-11-09T17:06:53.084Z"
   },
   {
    "duration": 8,
    "start_time": "2021-11-09T17:06:53.131Z"
   },
   {
    "duration": 1492,
    "start_time": "2021-11-09T17:06:53.142Z"
   },
   {
    "duration": 5,
    "start_time": "2021-11-09T17:06:54.636Z"
   },
   {
    "duration": 1399,
    "start_time": "2021-11-09T17:06:54.643Z"
   },
   {
    "duration": 4,
    "start_time": "2021-11-09T17:06:56.044Z"
   },
   {
    "duration": 1435,
    "start_time": "2021-11-09T17:06:56.052Z"
   },
   {
    "duration": 5,
    "start_time": "2021-11-09T17:06:57.489Z"
   },
   {
    "duration": 6,
    "start_time": "2021-11-09T17:07:27.758Z"
   },
   {
    "duration": 1383,
    "start_time": "2021-11-09T17:07:28.964Z"
   },
   {
    "duration": 6,
    "start_time": "2021-11-09T17:07:31.618Z"
   },
   {
    "duration": 1406,
    "start_time": "2021-11-09T17:07:33.513Z"
   },
   {
    "duration": 6,
    "start_time": "2021-11-09T17:07:36.427Z"
   },
   {
    "duration": 1426,
    "start_time": "2021-11-09T17:07:38.553Z"
   },
   {
    "duration": 6,
    "start_time": "2021-11-09T17:07:39.982Z"
   },
   {
    "duration": 7,
    "start_time": "2021-11-09T17:08:03.687Z"
   },
   {
    "duration": 2051,
    "start_time": "2021-11-09T17:08:03.697Z"
   },
   {
    "duration": 5,
    "start_time": "2021-11-09T17:08:07.102Z"
   },
   {
    "duration": 1453,
    "start_time": "2021-11-09T17:08:08.304Z"
   },
   {
    "duration": 6,
    "start_time": "2021-11-09T17:08:12.633Z"
   },
   {
    "duration": 1400,
    "start_time": "2021-11-09T17:08:15.091Z"
   },
   {
    "duration": 5,
    "start_time": "2021-11-09T17:08:16.568Z"
   },
   {
    "duration": 4,
    "start_time": "2021-11-09T17:09:00.265Z"
   },
   {
    "duration": 7,
    "start_time": "2021-11-09T17:09:00.530Z"
   },
   {
    "duration": 1511,
    "start_time": "2021-11-09T17:09:01.103Z"
   },
   {
    "duration": 15,
    "start_time": "2021-11-09T17:09:02.616Z"
   },
   {
    "duration": 1422,
    "start_time": "2021-11-09T17:09:02.634Z"
   },
   {
    "duration": 4,
    "start_time": "2021-11-09T17:09:08.663Z"
   },
   {
    "duration": 7,
    "start_time": "2021-11-09T17:09:08.867Z"
   },
   {
    "duration": 1409,
    "start_time": "2021-11-09T17:09:09.216Z"
   },
   {
    "duration": 4,
    "start_time": "2021-11-09T17:09:10.630Z"
   },
   {
    "duration": 1423,
    "start_time": "2021-11-09T17:09:10.637Z"
   },
   {
    "duration": 7,
    "start_time": "2021-11-09T17:10:02.930Z"
   },
   {
    "duration": 1490,
    "start_time": "2021-11-09T17:10:04.000Z"
   },
   {
    "duration": 5,
    "start_time": "2021-11-09T17:10:07.935Z"
   },
   {
    "duration": 1496,
    "start_time": "2021-11-09T17:10:10.585Z"
   },
   {
    "duration": 5,
    "start_time": "2021-11-09T17:10:13.038Z"
   },
   {
    "duration": 1408,
    "start_time": "2021-11-09T17:10:16.962Z"
   },
   {
    "duration": 7,
    "start_time": "2021-11-09T17:10:43.739Z"
   },
   {
    "duration": 2526,
    "start_time": "2021-11-09T17:10:44.850Z"
   },
   {
    "duration": 7,
    "start_time": "2021-11-09T17:11:01.691Z"
   },
   {
    "duration": 1421,
    "start_time": "2021-11-09T17:11:02.181Z"
   },
   {
    "duration": 6,
    "start_time": "2021-11-09T17:11:04.441Z"
   },
   {
    "duration": 1398,
    "start_time": "2021-11-09T17:11:06.437Z"
   },
   {
    "duration": 7,
    "start_time": "2021-11-09T17:11:13.554Z"
   },
   {
    "duration": 6,
    "start_time": "2021-11-09T17:11:20.272Z"
   },
   {
    "duration": 1385,
    "start_time": "2021-11-09T17:11:20.727Z"
   },
   {
    "duration": 5,
    "start_time": "2021-11-09T17:11:24.562Z"
   },
   {
    "duration": 1389,
    "start_time": "2021-11-09T17:11:24.853Z"
   },
   {
    "duration": 4,
    "start_time": "2021-11-09T17:11:26.245Z"
   },
   {
    "duration": 1500,
    "start_time": "2021-11-09T17:11:26.252Z"
   },
   {
    "duration": 5,
    "start_time": "2021-11-09T17:11:27.754Z"
   },
   {
    "duration": 8,
    "start_time": "2021-11-09T17:12:53.731Z"
   },
   {
    "duration": 1586,
    "start_time": "2021-11-09T17:13:07.981Z"
   },
   {
    "duration": 5,
    "start_time": "2021-11-09T17:13:09.569Z"
   },
   {
    "duration": 1406,
    "start_time": "2021-11-09T17:13:09.577Z"
   },
   {
    "duration": 5,
    "start_time": "2021-11-09T17:13:10.985Z"
   },
   {
    "duration": 1502,
    "start_time": "2021-11-09T17:13:10.992Z"
   },
   {
    "duration": 5,
    "start_time": "2021-11-09T17:13:12.496Z"
   },
   {
    "duration": 5,
    "start_time": "2021-11-09T17:13:21.379Z"
   },
   {
    "duration": 518,
    "start_time": "2021-11-09T17:13:21.387Z"
   },
   {
    "duration": 23,
    "start_time": "2021-11-09T17:13:21.908Z"
   },
   {
    "duration": 15,
    "start_time": "2021-11-09T17:13:21.934Z"
   },
   {
    "duration": 14,
    "start_time": "2021-11-09T17:13:21.952Z"
   },
   {
    "duration": 14,
    "start_time": "2021-11-09T17:13:21.969Z"
   },
   {
    "duration": 56,
    "start_time": "2021-11-09T17:13:21.985Z"
   },
   {
    "duration": 4,
    "start_time": "2021-11-09T17:13:22.044Z"
   },
   {
    "duration": 11,
    "start_time": "2021-11-09T17:13:22.055Z"
   },
   {
    "duration": 12,
    "start_time": "2021-11-09T17:13:22.069Z"
   },
   {
    "duration": 81,
    "start_time": "2021-11-09T17:13:22.083Z"
   },
   {
    "duration": 6,
    "start_time": "2021-11-09T17:13:22.167Z"
   },
   {
    "duration": 35,
    "start_time": "2021-11-09T17:13:22.177Z"
   },
   {
    "duration": 23,
    "start_time": "2021-11-09T17:13:22.214Z"
   },
   {
    "duration": 90,
    "start_time": "2021-11-09T17:13:22.240Z"
   },
   {
    "duration": 96,
    "start_time": "2021-11-09T17:13:22.333Z"
   },
   {
    "duration": 11,
    "start_time": "2021-11-09T17:13:22.432Z"
   },
   {
    "duration": 8,
    "start_time": "2021-11-09T17:13:22.446Z"
   },
   {
    "duration": 21,
    "start_time": "2021-11-09T17:13:22.457Z"
   },
   {
    "duration": 52,
    "start_time": "2021-11-09T17:13:22.481Z"
   },
   {
    "duration": 8,
    "start_time": "2021-11-09T17:13:22.536Z"
   },
   {
    "duration": 12,
    "start_time": "2021-11-09T17:13:22.547Z"
   },
   {
    "duration": 1416,
    "start_time": "2021-11-09T17:13:22.561Z"
   },
   {
    "duration": 4,
    "start_time": "2021-11-09T17:13:23.980Z"
   },
   {
    "duration": 1394,
    "start_time": "2021-11-09T17:13:23.987Z"
   },
   {
    "duration": 6,
    "start_time": "2021-11-09T17:13:25.384Z"
   },
   {
    "duration": 1416,
    "start_time": "2021-11-09T17:13:25.394Z"
   },
   {
    "duration": 6,
    "start_time": "2021-11-09T17:13:26.813Z"
   },
   {
    "duration": 1378,
    "start_time": "2021-11-10T21:34:41.538Z"
   },
   {
    "duration": 487,
    "start_time": "2021-11-10T21:34:42.918Z"
   },
   {
    "duration": 22,
    "start_time": "2021-11-10T21:34:43.408Z"
   },
   {
    "duration": 16,
    "start_time": "2021-11-10T21:34:43.432Z"
   },
   {
    "duration": 13,
    "start_time": "2021-11-10T21:34:43.450Z"
   },
   {
    "duration": 14,
    "start_time": "2021-11-10T21:34:43.465Z"
   },
   {
    "duration": 61,
    "start_time": "2021-11-10T21:34:43.481Z"
   },
   {
    "duration": 5,
    "start_time": "2021-11-10T21:34:43.546Z"
   },
   {
    "duration": 11,
    "start_time": "2021-11-10T21:34:43.555Z"
   },
   {
    "duration": 8,
    "start_time": "2021-11-10T21:34:43.569Z"
   },
   {
    "duration": 78,
    "start_time": "2021-11-10T21:34:43.579Z"
   },
   {
    "duration": 8,
    "start_time": "2021-11-10T21:34:43.659Z"
   },
   {
    "duration": 34,
    "start_time": "2021-11-10T21:34:43.669Z"
   },
   {
    "duration": 24,
    "start_time": "2021-11-10T21:34:43.705Z"
   },
   {
    "duration": 190,
    "start_time": "2021-11-10T21:34:43.733Z"
   },
   {
    "duration": 6,
    "start_time": "2021-11-10T21:34:43.926Z"
   },
   {
    "duration": 11,
    "start_time": "2021-11-10T21:34:43.934Z"
   },
   {
    "duration": 6,
    "start_time": "2021-11-10T21:34:43.947Z"
   },
   {
    "duration": 12,
    "start_time": "2021-11-10T21:34:43.956Z"
   },
   {
    "duration": 5,
    "start_time": "2021-11-10T21:34:43.970Z"
   },
   {
    "duration": 4,
    "start_time": "2021-11-10T21:34:44.024Z"
   },
   {
    "duration": 8,
    "start_time": "2021-11-10T21:34:44.030Z"
   },
   {
    "duration": 1537,
    "start_time": "2021-11-10T21:34:44.043Z"
   },
   {
    "duration": 5,
    "start_time": "2021-11-10T21:34:45.583Z"
   },
   {
    "duration": 1398,
    "start_time": "2021-11-10T21:34:45.590Z"
   },
   {
    "duration": 5,
    "start_time": "2021-11-10T21:34:46.990Z"
   },
   {
    "duration": 1386,
    "start_time": "2021-11-10T21:34:46.998Z"
   },
   {
    "duration": 5,
    "start_time": "2021-11-10T21:34:48.387Z"
   },
   {
    "duration": 7,
    "start_time": "2021-11-11T11:55:12.692Z"
   },
   {
    "duration": 1504,
    "start_time": "2021-11-11T11:56:39.836Z"
   },
   {
    "duration": 8742,
    "start_time": "2021-11-11T11:56:41.343Z"
   },
   {
    "duration": 36,
    "start_time": "2021-11-11T11:56:50.088Z"
   },
   {
    "duration": 15,
    "start_time": "2021-11-11T11:56:50.127Z"
   },
   {
    "duration": 17,
    "start_time": "2021-11-11T11:56:50.144Z"
   },
   {
    "duration": 50,
    "start_time": "2021-11-11T11:56:50.164Z"
   },
   {
    "duration": 20,
    "start_time": "2021-11-11T11:56:50.217Z"
   },
   {
    "duration": 15,
    "start_time": "2021-11-11T11:56:50.241Z"
   },
   {
    "duration": 27,
    "start_time": "2021-11-11T11:56:50.260Z"
   },
   {
    "duration": 23,
    "start_time": "2021-11-11T11:56:50.290Z"
   },
   {
    "duration": 68,
    "start_time": "2021-11-11T11:56:50.316Z"
   },
   {
    "duration": 8,
    "start_time": "2021-11-11T11:56:50.387Z"
   },
   {
    "duration": 50,
    "start_time": "2021-11-11T11:56:50.398Z"
   },
   {
    "duration": 10,
    "start_time": "2021-11-11T11:56:50.451Z"
   },
   {
    "duration": 100,
    "start_time": "2021-11-11T11:56:50.502Z"
   },
   {
    "duration": 11,
    "start_time": "2021-11-11T11:56:50.605Z"
   },
   {
    "duration": 23,
    "start_time": "2021-11-11T11:56:50.618Z"
   },
   {
    "duration": 10,
    "start_time": "2021-11-11T11:56:50.644Z"
   },
   {
    "duration": 49,
    "start_time": "2021-11-11T11:56:50.658Z"
   },
   {
    "duration": 9,
    "start_time": "2021-11-11T11:56:50.711Z"
   },
   {
    "duration": 8,
    "start_time": "2021-11-11T11:56:50.724Z"
   },
   {
    "duration": 10,
    "start_time": "2021-11-11T11:56:50.734Z"
   },
   {
    "duration": 1629,
    "start_time": "2021-11-11T11:56:50.749Z"
   },
   {
    "duration": 5,
    "start_time": "2021-11-11T11:56:52.381Z"
   },
   {
    "duration": 1529,
    "start_time": "2021-11-11T11:56:52.401Z"
   },
   {
    "duration": 5,
    "start_time": "2021-11-11T11:56:53.933Z"
   },
   {
    "duration": 1562,
    "start_time": "2021-11-11T11:56:53.941Z"
   },
   {
    "duration": 7,
    "start_time": "2021-11-11T11:56:55.506Z"
   },
   {
    "duration": 6,
    "start_time": "2021-11-11T12:08:20.564Z"
   },
   {
    "duration": 139,
    "start_time": "2021-11-11T12:08:57.924Z"
   },
   {
    "duration": 553,
    "start_time": "2021-11-11T12:11:03.777Z"
   },
   {
    "duration": 6,
    "start_time": "2021-11-11T12:11:10.617Z"
   },
   {
    "duration": 5,
    "start_time": "2021-11-11T12:11:13.192Z"
   },
   {
    "duration": 5,
    "start_time": "2021-11-11T12:11:15.183Z"
   },
   {
    "duration": 5,
    "start_time": "2021-11-11T12:11:21.045Z"
   },
   {
    "duration": 6,
    "start_time": "2021-11-11T12:11:39.139Z"
   },
   {
    "duration": 5,
    "start_time": "2021-11-11T12:11:42.214Z"
   },
   {
    "duration": 1379,
    "start_time": "2021-11-11T13:29:27.450Z"
   },
   {
    "duration": 486,
    "start_time": "2021-11-11T13:29:28.832Z"
   },
   {
    "duration": 23,
    "start_time": "2021-11-11T13:29:29.324Z"
   },
   {
    "duration": 21,
    "start_time": "2021-11-11T13:29:29.350Z"
   },
   {
    "duration": 35,
    "start_time": "2021-11-11T13:29:29.373Z"
   },
   {
    "duration": 14,
    "start_time": "2021-11-11T13:29:29.410Z"
   },
   {
    "duration": 20,
    "start_time": "2021-11-11T13:29:29.427Z"
   },
   {
    "duration": 13,
    "start_time": "2021-11-11T13:29:29.450Z"
   },
   {
    "duration": 40,
    "start_time": "2021-11-11T13:29:29.465Z"
   },
   {
    "duration": 13,
    "start_time": "2021-11-11T13:29:29.507Z"
   },
   {
    "duration": 59,
    "start_time": "2021-11-11T13:29:29.522Z"
   },
   {
    "duration": 8,
    "start_time": "2021-11-11T13:29:29.583Z"
   },
   {
    "duration": 28,
    "start_time": "2021-11-11T13:29:29.602Z"
   },
   {
    "duration": 71,
    "start_time": "2021-11-11T13:29:29.633Z"
   },
   {
    "duration": 99,
    "start_time": "2021-11-11T13:29:29.708Z"
   },
   {
    "duration": 98,
    "start_time": "2021-11-11T13:29:29.810Z"
   },
   {
    "duration": 14,
    "start_time": "2021-11-11T13:29:29.910Z"
   },
   {
    "duration": 10,
    "start_time": "2021-11-11T13:29:29.926Z"
   },
   {
    "duration": 8,
    "start_time": "2021-11-11T13:29:29.938Z"
   },
   {
    "duration": 7,
    "start_time": "2021-11-11T13:29:29.948Z"
   },
   {
    "duration": 44,
    "start_time": "2021-11-11T13:29:29.957Z"
   },
   {
    "duration": 23,
    "start_time": "2021-11-11T13:29:30.006Z"
   },
   {
    "duration": 1472,
    "start_time": "2021-11-11T13:29:30.032Z"
   },
   {
    "duration": 6,
    "start_time": "2021-11-11T13:29:31.507Z"
   },
   {
    "duration": 1588,
    "start_time": "2021-11-11T13:29:31.516Z"
   },
   {
    "duration": 6,
    "start_time": "2021-11-11T13:29:33.107Z"
   },
   {
    "duration": 1491,
    "start_time": "2021-11-11T13:29:33.116Z"
   },
   {
    "duration": 6,
    "start_time": "2021-11-11T13:29:34.609Z"
   }
  ],
  "kernelspec": {
   "display_name": "Python 3 (ipykernel)",
   "language": "python",
   "name": "python3"
  },
  "language_info": {
   "codemirror_mode": {
    "name": "ipython",
    "version": 3
   },
   "file_extension": ".py",
   "mimetype": "text/x-python",
   "name": "python",
   "nbconvert_exporter": "python",
   "pygments_lexer": "ipython3",
   "version": "3.8.8"
  },
  "toc": {
   "base_numbering": 1,
   "nav_menu": {},
   "number_sections": true,
   "sideBar": true,
   "skip_h1_title": true,
   "title_cell": "Table of Contents",
   "title_sidebar": "Contents",
   "toc_cell": false,
   "toc_position": {},
   "toc_section_display": true,
   "toc_window_display": false
  }
 },
 "nbformat": 4,
 "nbformat_minor": 2
}
